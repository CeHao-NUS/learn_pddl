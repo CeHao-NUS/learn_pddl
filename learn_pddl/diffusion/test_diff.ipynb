{
 "cells": [
  {
   "cell_type": "code",
   "execution_count": 1,
   "metadata": {},
   "outputs": [],
   "source": [
    "from diffusion import GaussianDiffusion\n",
    "from temporal import TemporalUnet"
   ]
  },
  {
   "cell_type": "code",
   "execution_count": 2,
   "metadata": {},
   "outputs": [
    {
     "name": "stdout",
     "output_type": "stream",
     "text": [
      "[ models/temporal ] Channel dimensions: [(16, 32), (32, 64), (64, 128), (128, 256)]\n",
      "[(16, 32), (32, 64), (64, 128), (128, 256)]\n"
     ]
    }
   ],
   "source": [
    "bit_length = 16\n",
    "\n",
    "model = TemporalUnet(horizon=20, transition_dim=bit_length, cond_dim=bit_length)\n",
    "\n",
    "diffusion  =GaussianDiffusion(model, horizon=20, observation_dim=bit_length, action_dim=0)"
   ]
  },
  {
   "cell_type": "code",
   "execution_count": 4,
   "metadata": {},
   "outputs": [],
   "source": [
    "from learn_pddl.datasets.bitdataset import BitDataset\n",
    "\n",
    "dataset = BitDataset(text_data_dir='datasets/dataset.txt', n_bits=bit_length, horizon=64)"
   ]
  },
  {
   "cell_type": "code",
   "execution_count": null,
   "metadata": {},
   "outputs": [],
   "source": []
  }
 ],
 "metadata": {
  "kernelspec": {
   "display_name": "tt",
   "language": "python",
   "name": "python3"
  },
  "language_info": {
   "codemirror_mode": {
    "name": "ipython",
    "version": 3
   },
   "file_extension": ".py",
   "mimetype": "text/x-python",
   "name": "python",
   "nbconvert_exporter": "python",
   "pygments_lexer": "ipython3",
   "version": "3.8.20"
  }
 },
 "nbformat": 4,
 "nbformat_minor": 2
}
