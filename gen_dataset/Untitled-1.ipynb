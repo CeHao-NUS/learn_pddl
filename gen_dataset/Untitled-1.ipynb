{
 "cells": [
  {
   "cell_type": "code",
   "execution_count": 4,
   "metadata": {},
   "outputs": [
    {
     "name": "stdout",
     "output_type": "stream",
     "text": [
      "[8, 1, 2, 3, 4, 5, 7, 6, 9, 10]\n"
     ]
    }
   ],
   "source": [
    "import random\n",
    "\n",
    "def generate_sequence():\n",
    "    # Define the initial structure of the sequence\n",
    "    base_sequence = [1, 2, (3, 4), 5, (6, 7), {8}, 9, 10]\n",
    "\n",
    "    # Rule 1: Randomly decide the order of 3 and 4, keeping them between 2 and 5\n",
    "    three_four = random.choice([(3, 4), (4, 3)])\n",
    "\n",
    "    # Rule 2: Randomly decide the order of 6 and 7\n",
    "    six_seven = random.choice([(6, 7), (7, 6)])\n",
    "\n",
    "    # Rule 3: Place 8 in any position before 9 and 10\n",
    "    # First, create a list of the sequence without {8}\n",
    "    sequence_without_eight = [1, 2, three_four, 5, six_seven, 9, 10]\n",
    "    \n",
    "    # Flatten the sequence (expand tuples into individual elements)\n",
    "    flattened_sequence = []\n",
    "    for item in sequence_without_eight:\n",
    "        if isinstance(item, tuple):\n",
    "            flattened_sequence.extend(item)\n",
    "        else:\n",
    "            flattened_sequence.append(item)\n",
    "    \n",
    "    # Insert 8 into a random position before 9\n",
    "    eight_position = random.randint(0, len(flattened_sequence) - 2)  # -2 to ensure 8 is before 9 and 10\n",
    "    flattened_sequence.insert(eight_position, 8)\n",
    "    \n",
    "    return flattened_sequence\n",
    "\n",
    "# Generate and print a random sequence\n",
    "random_sequence = generate_sequence()\n",
    "print(random_sequence)\n"
   ]
  },
  {
   "cell_type": "code",
   "execution_count": 26,
   "metadata": {},
   "outputs": [
    {
     "name": "stdout",
     "output_type": "stream",
     "text": [
      "[1, 2, 3, 11, 8, 4, 12, 5, 7, 11, 6, 9, 12, 10]\n"
     ]
    }
   ],
   "source": [
    "import random\n",
    "\n",
    "def generate_sequence_with_11_12(prob=0.3):\n",
    "    \"\"\"\n",
    "    Generate a random sequence based on the rules, with numbers 11 and 12 added randomly.\n",
    "    \n",
    "    Args:\n",
    "    - prob (float): The probability of inserting 11 or 12 between, at the beginning, or at the end (0 <= prob <= 1).\n",
    "    \n",
    "    Returns:\n",
    "    - list: The generated sequence.\n",
    "    \"\"\"\n",
    "    # Define the initial structure of the sequence\n",
    "    base_sequence = [1, 2, (3, 4), 5, (6, 7), {8}, 9, 10]\n",
    "\n",
    "    # Rule 1: Randomly decide the order of 3 and 4, keeping them between 2 and 5\n",
    "    three_four = random.choice([(3, 4), (4, 3)])\n",
    "\n",
    "    # Rule 2: Randomly decide the order of 6 and 7\n",
    "    six_seven = random.choice([(6, 7), (7, 6)])\n",
    "\n",
    "    # Rule 3: Place 8 in any position before 9 and 10\n",
    "    # Create a list of the sequence without {8}\n",
    "    sequence_without_eight = [1, 2, three_four, 5, six_seven, 9, 10]\n",
    "    \n",
    "    # Flatten the sequence (expand tuples into individual elements)\n",
    "    flattened_sequence = []\n",
    "    for item in sequence_without_eight:\n",
    "        if isinstance(item, tuple):\n",
    "            flattened_sequence.extend(item)\n",
    "        else:\n",
    "            flattened_sequence.append(item)\n",
    "    \n",
    "    # Insert 8 into a random position before 9\n",
    "    eight_position = random.randint(0, len(flattened_sequence) - 2)  # -2 to ensure 8 is before 9 and 10\n",
    "    flattened_sequence.insert(eight_position, 8)\n",
    "\n",
    "    # Add 11 and 12 randomly at the beginning and end based on the probability\n",
    "    final_sequence = []\n",
    "\n",
    "    # Add at the beginning\n",
    "    if random.random() < prob:\n",
    "        final_sequence.append(random.choice([11, 12]))\n",
    "\n",
    "    # Add 11 and 12 randomly between numbers based on the probability\n",
    "    for i in range(len(flattened_sequence)):\n",
    "        final_sequence.append(flattened_sequence[i])\n",
    "        if i < len(flattened_sequence) - 1:  # Only add between numbers\n",
    "            if random.random() < prob:  # Decide whether to add 11 or 12\n",
    "                final_sequence.append(random.choice([11, 12]))\n",
    "\n",
    "    # Add at the end\n",
    "    if random.random() < prob:\n",
    "        final_sequence.append(random.choice([11, 12]))\n",
    "\n",
    "    return final_sequence\n",
    "\n",
    "# Generate and print a random sequence with 11 and 12\n",
    "random_sequence = generate_sequence_with_11_12(prob=0.3)  # You can adjust the probability\n",
    "print(random_sequence)\n"
   ]
  }
 ],
 "metadata": {
  "kernelspec": {
   "display_name": "tt",
   "language": "python",
   "name": "python3"
  },
  "language_info": {
   "codemirror_mode": {
    "name": "ipython",
    "version": 3
   },
   "file_extension": ".py",
   "mimetype": "text/x-python",
   "name": "python",
   "nbconvert_exporter": "python",
   "pygments_lexer": "ipython3",
   "version": "3.8.20"
  }
 },
 "nbformat": 4,
 "nbformat_minor": 2
}
